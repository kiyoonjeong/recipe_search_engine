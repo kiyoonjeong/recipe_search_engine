{
  "nbformat": 4,
  "nbformat_minor": 0,
  "metadata": {
    "colab": {
      "name": "recipe_search.ipynb",
      "provenance": []
    },
    "kernelspec": {
      "name": "python3",
      "display_name": "Python 3"
    }
  },
  "cells": [
    {
      "cell_type": "code",
      "metadata": {
        "id": "e8BXXeNQ5Ghh"
      },
      "source": [
        "import pandas as pd\n",
        "import numpy as np\n",
        "import csv\n",
        "import sklearn\n",
        "import ast\n",
        "import re\n",
        "read_csv = open(\"/content/drive/MyDrive/recipe_data.csv\", encoding='UTF8')\n",
        "df = pd.read_csv(read_csv)\n",
        "read_csv = open(\"/content/drive/MyDrive/token_list.csv\", encoding='UTF8')\n",
        "token_list = pd.read_csv(read_csv)\n",
        "token_list = set(token_list['0'])"
      ],
      "execution_count": null,
      "outputs": []
    },
    {
      "cell_type": "code",
      "metadata": {
        "colab": {
          "base_uri": "https://localhost:8080/"
        },
        "id": "0rehKiRt6p3s",
        "outputId": "898314ed-b565-43b7-ba17-ff8bdd22c08b"
      },
      "source": [
        "import nltk\n",
        "nltk.download('wordnet')\n",
        "wnl = nltk.WordNetLemmatizer()"
      ],
      "execution_count": null,
      "outputs": [
        {
          "output_type": "stream",
          "text": [
            "[nltk_data] Downloading package wordnet to /root/nltk_data...\n",
            "[nltk_data]   Unzipping corpora/wordnet.zip.\n"
          ],
          "name": "stdout"
        }
      ]
    },
    {
      "cell_type": "code",
      "metadata": {
        "id": "H4odNcUa5DOk"
      },
      "source": [
        "from sklearn.feature_extraction.text import CountVectorizer\n",
        "cv = CountVectorizer(max_df = 0.95, stop_words ='english')\n",
        "cv_text = cv.fit_transform(df['tokens'])\n",
        "features = cv.get_feature_names()"
      ],
      "execution_count": null,
      "outputs": []
    },
    {
      "cell_type": "code",
      "metadata": {
        "colab": {
          "base_uri": "https://localhost:8080/"
        },
        "id": "aK0y7ZwO5Erx",
        "outputId": "b03a2cfb-5658-4605-9185-0524d93dab64"
      },
      "source": [
        "from sklearn.decomposition import LatentDirichletAllocation\n",
        "lda = LatentDirichletAllocation(n_components = 100)\n",
        "lda.fit(cv_text)"
      ],
      "execution_count": null,
      "outputs": [
        {
          "output_type": "execute_result",
          "data": {
            "text/plain": [
              "LatentDirichletAllocation(batch_size=128, doc_topic_prior=None,\n",
              "                          evaluate_every=-1, learning_decay=0.7,\n",
              "                          learning_method='batch', learning_offset=10.0,\n",
              "                          max_doc_update_iter=100, max_iter=10,\n",
              "                          mean_change_tol=0.001, n_components=100, n_jobs=None,\n",
              "                          perp_tol=0.1, random_state=None,\n",
              "                          topic_word_prior=None, total_samples=1000000.0,\n",
              "                          verbose=0)"
            ]
          },
          "metadata": {
            "tags": []
          },
          "execution_count": 4
        }
      ]
    },
    {
      "cell_type": "code",
      "metadata": {
        "id": "XJME6JQA558V"
      },
      "source": [
        "#sentence = \"low fat, and does not contain nuts\""
      ],
      "execution_count": null,
      "outputs": []
    },
    {
      "cell_type": "code",
      "metadata": {
        "colab": {
          "base_uri": "https://localhost:8080/"
        },
        "id": "lwUwvI7-59H6",
        "outputId": "055d552b-ad0e-4621-f878-f0a73b703cfe"
      },
      "source": [
        "nltk.download('averaged_perceptron_tagger')\n",
        "nltk.download('universal_tagset')\n",
        "#tag_predict = nltk.pos_tag(arr, tagset = \"universal\")"
      ],
      "execution_count": null,
      "outputs": [
        {
          "output_type": "stream",
          "text": [
            "[nltk_data] Downloading package averaged_perceptron_tagger to\n",
            "[nltk_data]     /root/nltk_data...\n",
            "[nltk_data]   Package averaged_perceptron_tagger is already up-to-\n",
            "[nltk_data]       date!\n",
            "[nltk_data] Downloading package universal_tagset to /root/nltk_data...\n",
            "[nltk_data]   Package universal_tagset is already up-to-date!\n"
          ],
          "name": "stdout"
        },
        {
          "output_type": "execute_result",
          "data": {
            "text/plain": [
              "True"
            ]
          },
          "metadata": {
            "tags": []
          },
          "execution_count": 6
        }
      ]
    },
    {
      "cell_type": "code",
      "metadata": {
        "id": "tsDknDP76LL1"
      },
      "source": [
        "def query_process(sentence):\n",
        "  arr = [wnl.lemmatize(word) for word in nltk.wordpunct_tokenize(sentence.lower())]\n",
        "  tag_predict = nltk.pos_tag(arr, tagset = \"universal\")\n",
        "  search_queue = []\n",
        "  no_tag = set(['VERB', 'PRON', 'DET', '.', 'CONJ'])\n",
        "  time_list = set(['h','m','hour','minute','min'])\n",
        "  no_flag = False\n",
        "  time_set = 1\n",
        "  for element in tag_predict:\n",
        "    if element[1] not in no_tag:\n",
        "      if element[0] == 'no' or element[0] == 'not':\n",
        "        no_flag = True\n",
        "      elif element[1] == 'ADP':\n",
        "        if element[0] == 'without':\n",
        "          no_flag = True\n",
        "      elif element[1] == 'NUM':\n",
        "        time_set = int(element[0])\n",
        "      elif element[0] in time_list:\n",
        "        if element[0] == 'h' or element[0] == 'hour':\n",
        "          search_queue.append(time_set*60)\n",
        "        else:\n",
        "          search_queue.append(time_set)\n",
        "        continue\n",
        "      else:\n",
        "        if no_flag:\n",
        "          search_queue.append(\"!\"+element[0])\n",
        "          no_flag = False\n",
        "        else:\n",
        "          search_queue.append(element[0])\n",
        "  return search_queue"
      ],
      "execution_count": null,
      "outputs": []
    },
    {
      "cell_type": "code",
      "metadata": {
        "id": "Rwyqv7am6Nh1"
      },
      "source": [
        "def intents(word_list):\n",
        "  #negative flag\n",
        "  negative_word = []\n",
        "  #nutrition\n",
        "  nut_list = set(['sugars', 'fat', 'calories','sodium'])\n",
        "  nut_word = []\n",
        "  #time\n",
        "  cook_time = []\n",
        "  #나머지\n",
        "  search_word = []\n",
        "\n",
        "  for word in word_list:\n",
        "    if isinstance(word, int):\n",
        "      cook_time.append(word)\n",
        "    elif word[0] == \"!\":\n",
        "      negative_word.append(word[1:])\n",
        "    elif word in nut_list:\n",
        "      nut_word.append(word)\n",
        "    else:\n",
        "      if word in token_list:\n",
        "        search_word.append(word)\n",
        "\n",
        "  #topic1\n",
        "  cv_query = cv.transform([' '.join(search_word)])\n",
        "  query_topic = np.argmax(lda.transform(cv_query))\n",
        "\n",
        "  return negative_word, nut_word, cook_time, search_word, query_topic"
      ],
      "execution_count": null,
      "outputs": []
    },
    {
      "cell_type": "code",
      "metadata": {
        "id": "DoPqkcLS6Rgn"
      },
      "source": [
        "# 쿼리 정리 : !오븐 피넛 토마토 라임 바질 10분 지방 -> 1. 오븐 2. 피넛 토마토 라임 바질 3. 10분 4. 지방 5. LDA 토픽\n",
        "# 순서 : 5 bool filter -> 4 bool filter -> 3 bool filter -> 1 bool filter -> 2 score"
      ],
      "execution_count": null,
      "outputs": []
    },
    {
      "cell_type": "code",
      "metadata": {
        "id": "aCCzMMfz0FNV"
      },
      "source": [
        "def search_recipe(query):\n",
        "  word_list = query_process(query)\n",
        "  negative_word, nut_word, cook_time, search_word, query_topic = intents(word_list)\n",
        "\n",
        "  # Recipe_Name\n",
        "  score_list = []\n",
        "  for element in df['name']:\n",
        "    res = ast.literal_eval(element)\n",
        "    score = 0\n",
        "    for word in search_word:\n",
        "        if word in res:\n",
        "          score += 1\n",
        "    score_list.append(10*score*score/len(res))\n",
        "  df['score'] = score_list\n",
        "\n",
        "  # Topic\n",
        "  topic_list = set(df.nlargest(10, 'score')['topic'].values.tolist())\n",
        "  topic_list.add(query_topic)\n",
        "  df_filter = pd.DataFrame(df.loc[df['topic'].isin(topic_list), :])\n",
        "\n",
        "  # Nut\n",
        "  for word in nut_word:\n",
        "    df_filter = pd.DataFrame(df_filter.loc[df_filter[word], :])\n",
        "\n",
        "  # Scoring\n",
        "  score_list = df_filter['score'].values.tolist()\n",
        "\n",
        "  # time\n",
        "  tot_time = 0\n",
        "  for time in cook_time:\n",
        "    tot_time += time\n",
        "\n",
        "  for idx, element in enumerate(df_filter['time']):\n",
        "    time_element = int(element)\n",
        "    if time_element >= tot_time:\n",
        "      score_list[idx] -= (time_element-tot_time)/5\n",
        "\n",
        "  # neg_filter + ingtool\n",
        "  for idx, element in enumerate(df_filter['ing_tool']):\n",
        "    ing_set = ast.literal_eval(element)\n",
        "    score = 0\n",
        "    for word in negative_word:\n",
        "      if word in ing_set:\n",
        "        score -= 4\n",
        "    for word in search_word:\n",
        "      if word in ing_set:\n",
        "        score += 2\n",
        "    score_list[idx] += score\n",
        "\n",
        "  df_filter['score'] = score_list\n",
        "  df_filter['score'] = df_filter.apply(lambda row: row['score'] + row['aver_rate']*(1 + 0.2*(min(row['review_nums']/100,1)))/5, axis = 1)\n",
        "                                       \n",
        "  \n",
        "  return df_filter.nlargest(10, 'score')[['recipe_name', 'ingredients', 'time', 'recipe']]"
      ],
      "execution_count": null,
      "outputs": []
    },
    {
      "cell_type": "code",
      "metadata": {
        "id": "0rVh-wFfsG77"
      },
      "source": [
        "from tabulate import tabulate"
      ],
      "execution_count": null,
      "outputs": []
    },
    {
      "cell_type": "code",
      "metadata": {
        "colab": {
          "base_uri": "https://localhost:8080/"
        },
        "id": "wN22u4iB1BRY",
        "outputId": "5f66a67a-9907-4b83-e435-e4ad15a41b58"
      },
      "source": [
        "retry = True\n",
        "search = True\n",
        "\n",
        "while retry:\n",
        "  retry = True\n",
        "  search = True\n",
        "  query = input(\"Recipe Search :\")\n",
        "  #query1 = \"Give me a Korean food which could be made without oven. It should be low fat and take less than a hour.\"\n",
        "  #query2 = \"seafood pasta which contains tomato and basil and could be cooked less than 30 mins.\"\n",
        "  result = search_recipe(query)\n",
        "  while retry and search:\n",
        "    search = True\n",
        "    print(tabulate(result[['recipe_name']], headers='keys', tablefmt='psql', showindex=False))\n",
        "    while True:\n",
        "      try:\n",
        "        click_recipe = int(input(\"Choose Recipe(1~10) :\"))\n",
        "        if click_recipe <= 10 and click_recipe >= 1:\n",
        "          break\n",
        "        else:\n",
        "          print(\"Choose 1 ~ 10.\")\n",
        "          continue\n",
        "      except ValueError:\n",
        "        print(\"That was no valid number. Choose 1 ~ 10.\")\n",
        "\n",
        "    idx = result.index.values.tolist()[click_recipe-1]\n",
        "    print(\"Ingredients : \\n\\n\", result['ingredients'][idx].replace('^', '\\n'), \"\\n\")\n",
        "    print(\"Cooking Time : \", result['time'][idx], \" min\\n\")\n",
        "    print(\"Cooking Direction : \\n\\n- \", result['recipe'][idx].replace('.', '.\\n- '))\n",
        "\n",
        "    while True:\n",
        "      try:\n",
        "        option = int(input(\"Back to list[1], Start new search[2], Stop[3] :\"))\n",
        "        if option <= 3 and option >= 1:\n",
        "          break\n",
        "        else:\n",
        "          print(\"Choose 1,2 or 3.\")\n",
        "          continue\n",
        "      except ValueError:\n",
        "        print(\"Choose 1,2 or 3.\")\n",
        "    \n",
        "    if option == 2:\n",
        "      search = False\n",
        "    if option == 3:\n",
        "      retry = False\n",
        "\n",
        "print(\"End\")"
      ],
      "execution_count": null,
      "outputs": [
        {
          "output_type": "stream",
          "text": [
            "Recipe Search :Give me a Korean food which could be made without oven. It should be low fat and take less than a hour.\n",
            "+----------------------------------------------------------------+\n",
            "| recipe_name                                                    |\n",
            "|----------------------------------------------------------------|\n",
            "| Korean Spicy Chicken and Potato (Tak Toritang)                 |\n",
            "| Chompchae Deopbap (Korean Spicy Tuna and Rice)                 |\n",
            "| Kimbop (Korean Sushi)                                          |\n",
            "| Korean Marinade                                                |\n",
            "| Fairy Food                                                     |\n",
            "| Korean Squash                                                  |\n",
            "| Korean Pizza                                                   |\n",
            "| Quick and Simple Korean Doenjang Chigae (Bean Paste/Tofu Soup) |\n",
            "| Vegan Japchae Korean Noodles                                   |\n",
            "| Kwek Kwek (Filipino Street Food)                               |\n",
            "+----------------------------------------------------------------+\n",
            "Choose Recipe(1~10) :1\n",
            "Ingredients : \n",
            "\n",
            " chicken drumettes\n",
            "large potatoes\n",
            "carrots\n",
            "large onion\n",
            "garlic\n",
            "water\n",
            "soy sauce\n",
            "white sugar\n",
            "gochujang (Korean hot pepper paste) \n",
            "\n",
            "Cooking Time :  60  min\n",
            "\n",
            "Cooking Direction : \n",
            "\n",
            "-  In a large pot over medium heat, mix the chicken, potatoes, carrots, onion, sugar, and garlic.\n",
            "-  Pour in water and soy sauce, and stir in sugar and hot pepper paste.\n",
            "-  Bring to a boil, reduce heat to low, and simmer 45 minutes, until chicken juices run clear, vegetables are tender, and liquid has thickened.\n",
            "-  Serve with hot cooked rice.\n",
            "- \n",
            "Back to list[1], Start new search[2], Stop[3] :2\n",
            "Recipe Search :seafood pasta which contains tomato and basil and could be cooked less than 30 mins.\n",
            "+-----------------------------------------+\n",
            "| recipe_name                             |\n",
            "|-----------------------------------------|\n",
            "| Tomato Basil Pasta                      |\n",
            "| Tomato Basil Pasta Salad                |\n",
            "| Tomato Basil Penne Pasta                |\n",
            "| Homemade Tomato Basil Pasta Sauce       |\n",
            "| Cajun Seafood Pasta                     |\n",
            "| Fresh Tomato Pasta                      |\n",
            "| Tomato Basil Spaghettini                |\n",
            "| Tomato Basil Tagliatelle                |\n",
            "| Easy Olive Oil, Tomato, and Basil Pasta |\n",
            "| Tomato Basil Chicken                    |\n",
            "+-----------------------------------------+\n",
            "Choose Recipe(1~10) :1\n",
            "Ingredients : \n",
            "\n",
            " diced tomatoes\n",
            "small onion\n",
            "olive oil\n",
            "crushed garlic\n",
            "leaves fresh basil\n",
            "fusilli pasta\n",
            "grated Parmesan cheese\n",
            "crumbled feta cheese\n",
            "salt and ground black pepper to taste \n",
            "\n",
            "Cooking Time :  40  min\n",
            "\n",
            "Cooking Direction : \n",
            "\n",
            "-  Stir tomatoes, onion, olive oil, garlic, and basil together in a bowl.\n",
            "-  Bring a large pot of lightly salted water to a boil.\n",
            "-  Cook fusilli in the boiling water, stirring occasionally, until cooked through but firm to the bite, 12 minutes.\n",
            "-  Drain.\n",
            "-  Toss warm pasta with feta cheese and Parmesan cheese in a large bowl.\n",
            "-  Stir tomato mixture into pasta and season with salt and pepper.\n",
            "- \n",
            "Back to list[1], Start new search[2], Stop[3] :1\n",
            "+-----------------------------------------+\n",
            "| recipe_name                             |\n",
            "|-----------------------------------------|\n",
            "| Tomato Basil Pasta                      |\n",
            "| Tomato Basil Pasta Salad                |\n",
            "| Tomato Basil Penne Pasta                |\n",
            "| Homemade Tomato Basil Pasta Sauce       |\n",
            "| Cajun Seafood Pasta                     |\n",
            "| Fresh Tomato Pasta                      |\n",
            "| Tomato Basil Spaghettini                |\n",
            "| Tomato Basil Tagliatelle                |\n",
            "| Easy Olive Oil, Tomato, and Basil Pasta |\n",
            "| Tomato Basil Chicken                    |\n",
            "+-----------------------------------------+\n",
            "Choose Recipe(1~10) :2\n",
            "Ingredients : \n",
            "\n",
            " Reynolds Wrap® Aluminum Foil\n",
            "bow tie pasta\n",
            "pint cherry\n",
            "medium yellow bell pepper\n",
            "artichoke hearts drained coarsely chopped\n",
            "large fresh basil leaves\n",
            "olive oil\n",
            "red wine vinegar\n",
            "Salt and freshly ground pepper \n",
            "\n",
            "Cooking Time :  -1  min\n",
            "\n",
            "Cooking Direction : \n",
            "\n",
            "-  Combine cooked pasta, tomatoes, yellow bell pepper, artichoke hearts and basil in a large bowl.\n",
            "-  Blend olive oil, vinegar, salt and pepper in a small bowl.\n",
            "-  Pour dressing mixture over pasta; toss to mix.\n",
            "-  Cover with Reynolds Wrap Aluminum Foil.\n",
            "-  Refrigerate 2 hours or until serving time.\n",
            "- \n",
            "Back to list[1], Start new search[2], Stop[3] :1\n",
            "+-----------------------------------------+\n",
            "| recipe_name                             |\n",
            "|-----------------------------------------|\n",
            "| Tomato Basil Pasta                      |\n",
            "| Tomato Basil Pasta Salad                |\n",
            "| Tomato Basil Penne Pasta                |\n",
            "| Homemade Tomato Basil Pasta Sauce       |\n",
            "| Cajun Seafood Pasta                     |\n",
            "| Fresh Tomato Pasta                      |\n",
            "| Tomato Basil Spaghettini                |\n",
            "| Tomato Basil Tagliatelle                |\n",
            "| Easy Olive Oil, Tomato, and Basil Pasta |\n",
            "| Tomato Basil Chicken                    |\n",
            "+-----------------------------------------+\n",
            "Choose Recipe(1~10) :3\n",
            "Ingredients : \n",
            "\n",
            " penne pasta\n",
            "basil oil\n",
            "olive oil\n",
            "garlic\n",
            "pint grape tomatoes halved\n",
            "shredded pepperjack cheese\n",
            "shredded mozzarella cheese\n",
            "grated Parmesan cheese\n",
            "minced fresh basil \n",
            "\n",
            "Cooking Time :  45  min\n",
            "\n",
            "Cooking Direction : \n",
            "\n",
            "-  Bring a large pot of water to a rolling boil over high heat.\n",
            "-  Cook pasta in boiling water until the pasta has cooked through, but is still firm to the bite, about 11 minutes.\n",
            "-  Drain.\n",
            "-  Heat basil and olive oils in a large skillet over medium-high heat.\n",
            "-  Cook garlic in oil until soft.\n",
            "-  Add tomatoes, reduce heat to medium, and simmer for 10 minutes.\n",
            "-  Stir in pepperjack, mozzarella, and Parmesan cheese.\n",
            "-  When cheese begins to melt, mix in cooked penne pasta.\n",
            "-  Season with fresh basil.\n",
            "- \n",
            "Back to list[1], Start new search[2], Stop[3] :4\n",
            "Choose 1,2 or 3.\n",
            "Back to list[1], Start new search[2], Stop[3] :1\n",
            "+-----------------------------------------+\n",
            "| recipe_name                             |\n",
            "|-----------------------------------------|\n",
            "| Tomato Basil Pasta                      |\n",
            "| Tomato Basil Pasta Salad                |\n",
            "| Tomato Basil Penne Pasta                |\n",
            "| Homemade Tomato Basil Pasta Sauce       |\n",
            "| Cajun Seafood Pasta                     |\n",
            "| Fresh Tomato Pasta                      |\n",
            "| Tomato Basil Spaghettini                |\n",
            "| Tomato Basil Tagliatelle                |\n",
            "| Easy Olive Oil, Tomato, and Basil Pasta |\n",
            "| Tomato Basil Chicken                    |\n",
            "+-----------------------------------------+\n",
            "Choose Recipe(1~10) :4\n",
            "Ingredients : \n",
            "\n",
            " butter\n",
            "small tomatoes diced\n",
            "chopped fresh basil\n",
            "olive oil\n",
            "garlic salt\n",
            "salt and ground black pepper to taste\n",
            "all-purpose flour\n",
            "water\n",
            "garlic \n",
            "\n",
            "Cooking Time :  30  min\n",
            "\n",
            "Cooking Direction : \n",
            "\n",
            "-  Melt the butter in a large skillet over medium heat; cook the tomatoes in the melted butter until they begin to fall apart, 5 to 7 minutes.\n",
            "-  Add the basil, olive oil, garlic salt, salt, and pepper.\n",
            "-  Slowly stir the flour into the mixture and cook until it begins to thicken, 5 to 7 minutes.\n",
            "-  Stir the water through the mixture to break up any lumps of the flour.\n",
            "-  Mix the garlic into the sauce and simmer another 5 minutes.\n",
            "-  Serve hot.\n",
            "- \n",
            "Back to list[1], Start new search[2], Stop[3] :3\n",
            "End\n"
          ],
          "name": "stdout"
        }
      ]
    }
  ]
}